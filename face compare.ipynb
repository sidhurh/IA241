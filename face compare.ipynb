{
 "cells": [
  {
   "cell_type": "code",
   "execution_count": 1,
   "metadata": {},
   "outputs": [],
   "source": [
    "import boto3\n",
    "from pprint import pprint\n",
    "\n",
    "client = boto3.client('rekognition')"
   ]
  },
  {
   "cell_type": "code",
   "execution_count": 3,
   "metadata": {},
   "outputs": [
    {
     "name": "stdout",
     "output_type": "stream",
     "text": [
      "{'FaceMatches': [{'Face': {'BoundingBox': {'Height': 0.6469594240188599,\n",
      "                                           'Left': 0.20307426154613495,\n",
      "                                           'Top': 0.21134895086288452,\n",
      "                                           'Width': 0.5290862917900085},\n",
      "                           'Confidence': 99.9998779296875,\n",
      "                           'Landmarks': [{'Type': 'eyeLeft',\n",
      "                                          'X': 0.3082178831100464,\n",
      "                                          'Y': 0.44201967120170593},\n",
      "                                         {'Type': 'eyeRight',\n",
      "                                          'X': 0.532570481300354,\n",
      "                                          'Y': 0.44374582171440125},\n",
      "                                         {'Type': 'mouthLeft',\n",
      "                                          'X': 0.32041028141975403,\n",
      "                                          'Y': 0.6677994728088379},\n",
      "                                         {'Type': 'mouthRight',\n",
      "                                          'X': 0.5030556917190552,\n",
      "                                          'Y': 0.6700032353401184},\n",
      "                                         {'Type': 'nose',\n",
      "                                          'X': 0.3703022599220276,\n",
      "                                          'Y': 0.551486074924469}],\n",
      "                           'Pose': {'Pitch': -1.7364996671676636,\n",
      "                                    'Roll': -2.0989387035369873,\n",
      "                                    'Yaw': -40.51795959472656},\n",
      "                           'Quality': {'Brightness': 71.77912902832031,\n",
      "                                       'Sharpness': 96.61495208740234}},\n",
      "                  'Similarity': 93.96873474121094}],\n",
      " 'ResponseMetadata': {'HTTPHeaders': {'connection': 'keep-alive',\n",
      "                                      'content-length': '901',\n",
      "                                      'content-type': 'application/x-amz-json-1.1',\n",
      "                                      'date': 'Tue, 28 Apr 2020 21:26:51 GMT',\n",
      "                                      'x-amzn-requestid': '188f29de-36b4-4607-9cd8-70fed982dbb1'},\n",
      "                      'HTTPStatusCode': 200,\n",
      "                      'RequestId': '188f29de-36b4-4607-9cd8-70fed982dbb1',\n",
      "                      'RetryAttempts': 0},\n",
      " 'SourceImageFace': {'BoundingBox': {'Height': 0.38305285573005676,\n",
      "                                     'Left': 0.3519851267337799,\n",
      "                                     'Top': 0.21947063505649567,\n",
      "                                     'Width': 0.3529306650161743},\n",
      "                     'Confidence': 100.0},\n",
      " 'UnmatchedFaces': []}\n"
     ]
    }
   ],
   "source": [
    "response = client.compare_faces(\n",
    "    SimilarityThreshold=90,\n",
    "    SourceImage={\n",
    "        'S3Object': {\n",
    "            'Bucket': 'sidhu-ia241',\n",
    "            'Name': 'source.jpg',\n",
    "        },\n",
    "    },\n",
    "    TargetImage={\n",
    "        'S3Object': {\n",
    "            'Bucket': 'sidhu-ia241',\n",
    "            'Name': 'target.jpg',\n",
    "        },\n",
    "    },\n",
    ")\n",
    "\n",
    "\n",
    "pprint(response)"
   ]
  },
  {
   "cell_type": "markdown",
   "metadata": {},
   "source": [
    "The two images of Albert Einstein are 93.97% similar, with a 99.99% confidence that the photos contain a face"
   ]
  },
  {
   "cell_type": "code",
   "execution_count": null,
   "metadata": {},
   "outputs": [],
   "source": []
  }
 ],
 "metadata": {
  "kernelspec": {
   "display_name": "conda_python3",
   "language": "python",
   "name": "conda_python3"
  },
  "language_info": {
   "codemirror_mode": {
    "name": "ipython",
    "version": 3
   },
   "file_extension": ".py",
   "mimetype": "text/x-python",
   "name": "python",
   "nbconvert_exporter": "python",
   "pygments_lexer": "ipython3",
   "version": "3.6.5"
  }
 },
 "nbformat": 4,
 "nbformat_minor": 4
}
